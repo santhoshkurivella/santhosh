{
  "nbformat": 4,
  "nbformat_minor": 0,
  "metadata": {
    "colab": {
      "provenance": [],
      "authorship_tag": "ABX9TyNVL5SSd9W9P7VArPs5Glgu",
      "include_colab_link": true
    },
    "kernelspec": {
      "name": "python3",
      "display_name": "Python 3"
    },
    "language_info": {
      "name": "python"
    }
  },
  "cells": [
    {
      "cell_type": "markdown",
      "metadata": {
        "id": "view-in-github",
        "colab_type": "text"
      },
      "source": [
        "<a href=\"https://colab.research.google.com/github/santhoshkurivella/santhosh/blob/main/array_saving.ipynb\" target=\"_parent\"><img src=\"https://colab.research.google.com/assets/colab-badge.svg\" alt=\"Open In Colab\"/></a>"
      ]
    },
    {
      "cell_type": "code",
      "execution_count": 5,
      "metadata": {
        "colab": {
          "base_uri": "https://localhost:8080/"
        },
        "id": "R43atEiydsxf",
        "outputId": "2dd22822-cb13-44d7-daa8-ad9ac28ca799"
      },
      "outputs": [
        {
          "output_type": "execute_result",
          "data": {
            "text/plain": [
              "array([1, 2, 3])"
            ]
          },
          "metadata": {},
          "execution_count": 5
        }
      ],
      "source": [
        "import numpy as np\n",
        "arr=np.array([1,2,3])\n",
        "arr"
      ]
    },
    {
      "cell_type": "code",
      "source": [
        "np.save('arr.npy',arr)\n",
        "np.load('arr.npy')"
      ],
      "metadata": {
        "colab": {
          "base_uri": "https://localhost:8080/"
        },
        "id": "E-bYJph4eHaZ",
        "outputId": "db1004d3-d14e-499f-fda1-f84d6db6da32"
      },
      "execution_count": null,
      "outputs": [
        {
          "output_type": "execute_result",
          "data": {
            "text/plain": [
              "array([1, 2, 3])"
            ]
          },
          "metadata": {},
          "execution_count": 4
        }
      ]
    },
    {
      "cell_type": "code",
      "source": [
        "!cat /content/array_ex.txt"
      ],
      "metadata": {
        "colab": {
          "base_uri": "https://localhost:8080/"
        },
        "id": "-9iJ49VxeypH",
        "outputId": "5d4b6e9f-32d7-45e1-abcb-83cec98ba211"
      },
      "execution_count": 2,
      "outputs": [
        {
          "output_type": "stream",
          "name": "stdout",
          "text": [
            "0.580052,0.186730,1.040717,1.134411\r\n",
            "0.194163,-0.636917,-0.938659,0.124094\r\n",
            "-0.126410,0.268607,-0.695724,0.047428\r\n",
            "-1.484413,0.004176,-0.744203,0.005487\r\n",
            "2.302869,0.200131,1.670238,-1.881090\r\n",
            "-0.193230,1.047233,0.482803,0.960334"
          ]
        }
      ]
    },
    {
      "cell_type": "code",
      "source": [
        "arr = np.loadtxt('/content/array_ex.txt', delimiter=',')"
      ],
      "metadata": {
        "id": "wVDSOwI-fG9D"
      },
      "execution_count": 6,
      "outputs": []
    },
    {
      "cell_type": "code",
      "source": [
        "arr"
      ],
      "metadata": {
        "colab": {
          "base_uri": "https://localhost:8080/"
        },
        "id": "encL475ifTLo",
        "outputId": "b2b3b781-8f0a-4feb-a7d8-a3d5b2d58f04"
      },
      "execution_count": 7,
      "outputs": [
        {
          "output_type": "execute_result",
          "data": {
            "text/plain": [
              "array([[ 0.580052,  0.18673 ,  1.040717,  1.134411],\n",
              "       [ 0.194163, -0.636917, -0.938659,  0.124094],\n",
              "       [-0.12641 ,  0.268607, -0.695724,  0.047428],\n",
              "       [-1.484413,  0.004176, -0.744203,  0.005487],\n",
              "       [ 2.302869,  0.200131,  1.670238, -1.88109 ],\n",
              "       [-0.19323 ,  1.047233,  0.482803,  0.960334]])"
            ]
          },
          "metadata": {},
          "execution_count": 7
        }
      ]
    },
    {
      "cell_type": "code",
      "source": [
        "np.arange(12).reshape(2,2,3)"
      ],
      "metadata": {
        "colab": {
          "base_uri": "https://localhost:8080/"
        },
        "id": "_qf2ZKmVhb4A",
        "outputId": "26e58be5-bc48-4c83-80d3-77e33fc16357"
      },
      "execution_count": 11,
      "outputs": [
        {
          "output_type": "execute_result",
          "data": {
            "text/plain": [
              "array([[[ 0,  1,  2],\n",
              "        [ 3,  4,  5]],\n",
              "\n",
              "       [[ 6,  7,  8],\n",
              "        [ 9, 10, 11]]])"
            ]
          },
          "metadata": {},
          "execution_count": 11
        }
      ]
    }
  ]
}